{
  "nbformat": 4,
  "nbformat_minor": 0,
  "metadata": {
    "colab": {
      "provenance": []
    },
    "kernelspec": {
      "name": "python3",
      "display_name": "Python 3"
    },
    "language_info": {
      "name": "python"
    }
  },
  "cells": [
    {
      "cell_type": "code",
      "execution_count": null,
      "metadata": {
        "id": "bf6vqb7_r2Uk"
      },
      "outputs": [],
      "source": [
        "import pandas as pd\n",
        "df=pd.read_csv(\"/content/bhp.csv\")\n",
        "q1=df['price_per_sqft'].quantile(0.25)\n",
        "q3=df['price_per_sqft'].quantile(0.75)\n",
        "IQR=q3-q1\n",
        "df_new=df['price_per_sqft'][((df['price_per_sqft']>=q1-1.5*IQR)&(df['price_per_sqft']<=q3+1.5*IQR))]"
      ]
    },
    {
      "cell_type": "code",
      "source": [
        "import pandas as pd\n",
        "df=pd.read_csv(\"/content/bhp.csv\")\n",
        "q1=df['price_per_sqft'].quantile(0.25)\n",
        "q3=df['price_per_sqft'].quantile(0.75)\n",
        "IQR=q3-q1\n",
        "df_new=df['price_per_sqft'][((df['price_per_sqft']>=q1-1.5*IQR)&(df['price_per_sqft']<=q3+1.5*IQR))]\n",
        "print(df['price_per_sqft'])"
      ],
      "metadata": {
        "colab": {
          "base_uri": "https://localhost:8080/"
        },
        "id": "bgzF7kKIuN42",
        "outputId": "7b764181-7528-4a28-f7c5-e0de5f5d1335"
      },
      "execution_count": null,
      "outputs": [
        {
          "output_type": "stream",
          "name": "stdout",
          "text": [
            "0         3699\n",
            "1         4615\n",
            "2         4305\n",
            "3         6245\n",
            "4         4250\n",
            "         ...  \n",
            "13195     6689\n",
            "13196    11111\n",
            "13197     5258\n",
            "13198    10407\n",
            "13199     3090\n",
            "Name: price_per_sqft, Length: 13200, dtype: int64\n"
          ]
        }
      ]
    },
    {
      "cell_type": "code",
      "source": [
        "import scipy.stats as stats\n",
        "df['price_per_sqft']=stats.zscore(df['price_per_sqft'])\n",
        "print(df['price_per_sqft'])"
      ],
      "metadata": {
        "colab": {
          "base_uri": "https://localhost:8080/"
        },
        "id": "BaBQ6MbiueCr",
        "outputId": "171369b2-c561-4187-fe56-d92cdc869804"
      },
      "execution_count": null,
      "outputs": [
        {
          "output_type": "stream",
          "name": "stdout",
          "text": [
            "0       -0.039554\n",
            "1       -0.030971\n",
            "2       -0.033876\n",
            "3       -0.015698\n",
            "4       -0.034391\n",
            "           ...   \n",
            "13195   -0.011538\n",
            "13196    0.029897\n",
            "13197   -0.024946\n",
            "13198    0.023300\n",
            "13199   -0.045260\n",
            "Name: price_per_sqft, Length: 13200, dtype: float64\n"
          ]
        }
      ]
    },
    {
      "cell_type": "code",
      "source": [
        "import pandas as pd\n",
        "df=pd.read_csv(\"/content/height_weight.csv\")\n",
        "q1=df['weight'].quantile(0.25)\n",
        "q3=df['weight'].quantile(0.75)\n",
        "IQR=q3-q1\n",
        "df_new=df['weight'][((df['weight']>=q1-1.5*IQR)&(df['weight']<=q3+1.5*IQR))]\n",
        "print(df['weight'])"
      ],
      "metadata": {
        "colab": {
          "base_uri": "https://localhost:8080/"
        },
        "id": "JPTnPovzu_vV",
        "outputId": "16f36972-3c7d-4f8f-bd70-552774466408"
      },
      "execution_count": null,
      "outputs": [
        {
          "output_type": "stream",
          "name": "stdout",
          "text": [
            "0       241.893563\n",
            "1       162.310473\n",
            "2       212.740856\n",
            "3       220.042470\n",
            "4       206.349801\n",
            "           ...    \n",
            "9995    136.777454\n",
            "9996    170.867906\n",
            "9997    128.475319\n",
            "9998    163.852461\n",
            "9999    113.649103\n",
            "Name: weight, Length: 10000, dtype: float64\n"
          ]
        }
      ]
    },
    {
      "cell_type": "code",
      "source": [
        "import pandas as pd\n",
        "df=pd.read_csv(\"/content/height_weight.csv\")\n",
        "q1=df['height'].quantile(0.25)\n",
        "q3=df['height'].quantile(0.75)\n",
        "IQR=q3-q1\n",
        "df_new=df['height'][((df['height']>=q1-1.5*IQR)&(df['height']<=q3+1.5*IQR))]\n",
        "print(df['height'])"
      ],
      "metadata": {
        "colab": {
          "base_uri": "https://localhost:8080/"
        },
        "id": "rerQNAfAvw5G",
        "outputId": "f98da2ef-2e5c-422e-95b3-a28e0780d8bd"
      },
      "execution_count": null,
      "outputs": [
        {
          "output_type": "stream",
          "name": "stdout",
          "text": [
            "0       73.847017\n",
            "1       68.781904\n",
            "2       74.110105\n",
            "3       71.730978\n",
            "4       69.881796\n",
            "          ...    \n",
            "9995    66.172652\n",
            "9996    67.067155\n",
            "9997    63.867992\n",
            "9998    69.034243\n",
            "9999    61.944246\n",
            "Name: height, Length: 10000, dtype: float64\n"
          ]
        }
      ]
    },
    {
      "cell_type": "markdown",
      "source": [],
      "metadata": {
        "id": "KyBDYg-Tu1dI"
      }
    }
  ]
}